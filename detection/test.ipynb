{
 "cells": [
  {
   "cell_type": "code",
   "execution_count": 3,
   "metadata": {},
   "outputs": [
    {
     "name": "stdout",
     "output_type": "stream",
     "text": [
      "Is the server live? True\n",
      "Is the model ready? True\n",
      "Inference result: (1, 5, 5376)\n"
     ]
    }
   ],
   "source": [
    "import tritonclient.grpc as grpcclient\n",
    "import numpy as np\n",
    "\n",
    "# Define the server URL and model name\n",
    "url = \"localhost:8004\"  # This is the default gRPC port for Triton\n",
    "model_name = \"detection_model_1\"  # Replace with your model's name\n",
    "\n",
    "# Create a Triton client\n",
    "client = grpcclient.InferenceServerClient(url=url)\n",
    "\n",
    "# Check server health\n",
    "print(\"Is the server live?\", client.is_server_live())\n",
    "print(\"Is the model ready?\", client.is_model_ready(model_name))\n",
    "\n",
    "# Prepare the input data (e.g., image data)\n",
    "# Here we simulate a 3x512x512 input tensor\n",
    "input_data = np.random.rand(1, 3, 512, 512).astype(np.float32)\n",
    "\n",
    "# Create Triton input\n",
    "inputs = [\n",
    "    grpcclient.InferInput(\"images\", input_data.shape, \"FP32\")\n",
    "]\n",
    "inputs[0].set_data_from_numpy(input_data)\n",
    "\n",
    "# Define the output\n",
    "outputs = [\n",
    "    grpcclient.InferRequestedOutput(\"output1\")\n",
    "]\n",
    "\n",
    "# Perform inference\n",
    "response = client.infer(model_name=model_name, inputs=inputs, outputs=outputs)\n",
    "\n",
    "# Get the output data\n",
    "output_data = response.as_numpy(\"output1\")\n",
    "\n",
    "# Display the output\n",
    "print(\"Inference result:\", output_data.shape)\n"
   ]
  },
  {
   "cell_type": "code",
   "execution_count": 16,
   "metadata": {},
   "outputs": [
    {
     "data": {
      "text/plain": [
       "(array([0, 0]), array([5203, 5219]))"
      ]
     },
     "execution_count": 16,
     "metadata": {},
     "output_type": "execute_result"
    }
   ],
   "source": [
    "np.where(output_data[:,-1,:]>0.35)"
   ]
  },
  {
   "cell_type": "code",
   "execution_count": 17,
   "metadata": {},
   "outputs": [
    {
     "data": {
      "text/plain": [
       "array([[[1.0799946e+02, 1.1105086e+02],\n",
       "        [2.2697418e+02, 2.2704559e+02],\n",
       "        [2.1463503e+02, 2.1988284e+02],\n",
       "        [4.5843933e+02, 4.8306689e+02],\n",
       "        [3.9507312e-01, 3.9106569e-01]]], dtype=float32)"
      ]
     },
     "execution_count": 17,
     "metadata": {},
     "output_type": "execute_result"
    }
   ],
   "source": [
    "output_data[:,:,[5203, 5219]]"
   ]
  },
  {
   "cell_type": "code",
   "execution_count": null,
   "metadata": {},
   "outputs": [],
   "source": []
  }
 ],
 "metadata": {
  "kernelspec": {
   "display_name": "ytenew",
   "language": "python",
   "name": "python3"
  },
  "language_info": {
   "codemirror_mode": {
    "name": "ipython",
    "version": 3
   },
   "file_extension": ".py",
   "mimetype": "text/x-python",
   "name": "python",
   "nbconvert_exporter": "python",
   "pygments_lexer": "ipython3",
   "version": "3.11.10"
  }
 },
 "nbformat": 4,
 "nbformat_minor": 2
}
