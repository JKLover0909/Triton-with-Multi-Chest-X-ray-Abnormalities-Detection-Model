{
 "cells": [
  {
   "cell_type": "code",
   "execution_count": 10,
   "metadata": {},
   "outputs": [],
   "source": [
    "import pandas as pd\n",
    "from sklearn.model_selection import train_test_split"
   ]
  },
  {
   "cell_type": "code",
   "execution_count": 11,
   "metadata": {},
   "outputs": [],
   "source": [
    "df = pd.read_csv(\"//home/ubuntu/ductq/yte2/csv/data.csv\")\n",
    "df[\"image_path\"] = df[\"image_id\"].apply(lambda x: f\"/home/ubuntu/duynd/AIyte/secondnd/input/train/{x}.dicom\")"
   ]
  },
  {
   "cell_type": "code",
   "execution_count": 12,
   "metadata": {},
   "outputs": [],
   "source": [
    "df_ = df.drop_duplicates(\"image_id\").reset_index(drop=True)"
   ]
  },
  {
   "cell_type": "code",
   "execution_count": 13,
   "metadata": {},
   "outputs": [],
   "source": [
    "train, val = train_test_split(df_, test_size=0.1)"
   ]
  },
  {
   "cell_type": "code",
   "execution_count": 14,
   "metadata": {},
   "outputs": [],
   "source": [
    "train = train.reset_index(drop=True).sort_values(\"image_id\").reset_index(drop=True)\n",
    "val = val.reset_index(drop=True).sort_values(\"image_id\").reset_index(drop=True)\n",
    "\n",
    "train.to_csv(\"/home/ubuntu/ductq/yte2/csv/yolo_csv/train_case.csv\",index=False)\n",
    "val.to_csv(\"/home/ubuntu/ductq/yte2/csv/yolo_csv/val_case.csv\",index=False)"
   ]
  },
  {
   "cell_type": "code",
   "execution_count": 15,
   "metadata": {},
   "outputs": [],
   "source": [
    "train_case = list(train[\"image_id\"])\n",
    "val_case = list(val[\"image_id\"])"
   ]
  },
  {
   "cell_type": "code",
   "execution_count": 16,
   "metadata": {},
   "outputs": [],
   "source": [
    "df_train = df[df[\"image_id\"].isin(train_case)]\n",
    "df_val = df[df[\"image_id\"].isin(val_case)]"
   ]
  },
  {
   "cell_type": "code",
   "execution_count": 17,
   "metadata": {},
   "outputs": [],
   "source": [
    "df_train.to_csv(\"/home/ubuntu/ductq/yte2/csv/yolo_csv/train_box.csv\",index=False)\n",
    "df_val.to_csv(\"/home/ubuntu/ductq/yte2/csv/yolo_csv/val_box.csv\",index=False)"
   ]
  }
 ],
 "metadata": {
  "kernelspec": {
   "display_name": "ytenew",
   "language": "python",
   "name": "python3"
  },
  "language_info": {
   "codemirror_mode": {
    "name": "ipython",
    "version": 3
   },
   "file_extension": ".py",
   "mimetype": "text/x-python",
   "name": "python",
   "nbconvert_exporter": "python",
   "pygments_lexer": "ipython3",
   "version": "3.11.10"
  }
 },
 "nbformat": 4,
 "nbformat_minor": 2
}
